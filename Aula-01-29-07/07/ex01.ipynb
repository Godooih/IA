{
 "cells": [
  {
   "cell_type": "code",
   "execution_count": null,
   "metadata": {},
   "outputs": [],
   "source": [
    "pip install pandas"
   ]
  },
  {
   "cell_type": "code",
   "execution_count": 4,
   "metadata": {},
   "outputs": [],
   "source": [
    "import pandas as pd"
   ]
  },
  {
   "cell_type": "code",
   "execution_count": 18,
   "metadata": {},
   "outputs": [],
   "source": [
    "Dicionario ={\n",
    "    \"A\":['Alice','19','Direito','1'],\n",
    "    \"B\":['Julia','22','Engenharia','2'],\n",
    "    \"C\":['Bruna','28','Enfemagem','3'],\n",
    "    \"D\":['Daniel','34','Engenheiro civil','4'],\n",
    "    \"E\":['Filipe','28','Cientista da computação','5'],\n",
    "    \"F\":['Silvio','48','Engenheiro Eletronico','6'],\n",
    "}\n",
    "\n",
    "Labels=['Nome','Idade','Profissão','ID']"
   ]
  },
  {
   "cell_type": "code",
   "execution_count": 19,
   "metadata": {},
   "outputs": [],
   "source": [
    "dados = pd.DataFrame(Dicionario, index= Labels)"
   ]
  },
  {
   "cell_type": "code",
   "execution_count": 21,
   "metadata": {},
   "outputs": [
    {
     "data": {
      "text/html": [
       "<div>\n",
       "<style scoped>\n",
       "    .dataframe tbody tr th:only-of-type {\n",
       "        vertical-align: middle;\n",
       "    }\n",
       "\n",
       "    .dataframe tbody tr th {\n",
       "        vertical-align: top;\n",
       "    }\n",
       "\n",
       "    .dataframe thead th {\n",
       "        text-align: right;\n",
       "    }\n",
       "</style>\n",
       "<table border=\"1\" class=\"dataframe\">\n",
       "  <thead>\n",
       "    <tr style=\"text-align: right;\">\n",
       "      <th></th>\n",
       "      <th>A</th>\n",
       "      <th>B</th>\n",
       "      <th>C</th>\n",
       "      <th>D</th>\n",
       "      <th>E</th>\n",
       "      <th>F</th>\n",
       "    </tr>\n",
       "  </thead>\n",
       "  <tbody>\n",
       "    <tr>\n",
       "      <th>Nome</th>\n",
       "      <td>Alice</td>\n",
       "      <td>Julia</td>\n",
       "      <td>Bruna</td>\n",
       "      <td>Daniel</td>\n",
       "      <td>Filipe</td>\n",
       "      <td>Silvio</td>\n",
       "    </tr>\n",
       "    <tr>\n",
       "      <th>Idade</th>\n",
       "      <td>19</td>\n",
       "      <td>22</td>\n",
       "      <td>28</td>\n",
       "      <td>34</td>\n",
       "      <td>28</td>\n",
       "      <td>48</td>\n",
       "    </tr>\n",
       "    <tr>\n",
       "      <th>Profissão</th>\n",
       "      <td>Direito</td>\n",
       "      <td>Engenharia</td>\n",
       "      <td>Enfemagem</td>\n",
       "      <td>Engenheiro civil</td>\n",
       "      <td>Cientista da computação</td>\n",
       "      <td>Engenheiro Eletronico</td>\n",
       "    </tr>\n",
       "    <tr>\n",
       "      <th>ID</th>\n",
       "      <td>1</td>\n",
       "      <td>2</td>\n",
       "      <td>3</td>\n",
       "      <td>4</td>\n",
       "      <td>5</td>\n",
       "      <td>6</td>\n",
       "    </tr>\n",
       "  </tbody>\n",
       "</table>\n",
       "</div>"
      ],
      "text/plain": [
       "                 A           B          C                 D  \\\n",
       "Nome         Alice       Julia      Bruna            Daniel   \n",
       "Idade           19          22         28                34   \n",
       "Profissão  Direito  Engenharia  Enfemagem  Engenheiro civil   \n",
       "ID               1           2          3                 4   \n",
       "\n",
       "                                 E                      F  \n",
       "Nome                        Filipe                 Silvio  \n",
       "Idade                           28                     48  \n",
       "Profissão  Cientista da computação  Engenheiro Eletronico  \n",
       "ID                               5                      6  "
      ]
     },
     "execution_count": 21,
     "metadata": {},
     "output_type": "execute_result"
    }
   ],
   "source": [
    "dados.head()"
   ]
  }
 ],
 "metadata": {
  "kernelspec": {
   "display_name": "Python 3",
   "language": "python",
   "name": "python3"
  },
  "language_info": {
   "codemirror_mode": {
    "name": "ipython",
    "version": 3
   },
   "file_extension": ".py",
   "mimetype": "text/x-python",
   "name": "python",
   "nbconvert_exporter": "python",
   "pygments_lexer": "ipython3",
   "version": "3.11.9"
  }
 },
 "nbformat": 4,
 "nbformat_minor": 2
}
