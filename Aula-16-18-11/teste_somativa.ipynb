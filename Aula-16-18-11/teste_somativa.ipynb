{
 "cells": [
  {
   "cell_type": "code",
   "execution_count": 5,
   "metadata": {},
   "outputs": [],
   "source": [
    "import pandas as pd\n",
    "import matplotlib.pyplot as plt\n",
    "import seaborn as sns\n",
    "import numpy as np\n",
    "from sklearn.cluster import KMeans"
   ]
  },
  {
   "cell_type": "code",
   "execution_count": 11,
   "metadata": {},
   "outputs": [],
   "source": [
    "dados = pd.DataFrame({\n",
    "    'Simbolo':['AAPL','Google','MSFT',\n",
    "               'AMZN','TSLA','FB'],\n",
    "    'Preço':[150.12,2700.45,300.89,3200.10,700.78,\n",
    "             350.40],\n",
    "    'Volume de negociação':[3000000,1000000,2500000,\n",
    "                            1200000,5000000,900000],\n",
    "    'Capitalização de mercado':[2000000000000,18000000000000,\n",
    "                                22000000000000,1700000000000,\n",
    "                                75000000000000,9000000000000]\n",
    "})"
   ]
  },
  {
   "cell_type": "code",
   "execution_count": 9,
   "metadata": {},
   "outputs": [
    {
     "data": {
      "text/html": [
       "<div>\n",
       "<style scoped>\n",
       "    .dataframe tbody tr th:only-of-type {\n",
       "        vertical-align: middle;\n",
       "    }\n",
       "\n",
       "    .dataframe tbody tr th {\n",
       "        vertical-align: top;\n",
       "    }\n",
       "\n",
       "    .dataframe thead th {\n",
       "        text-align: right;\n",
       "    }\n",
       "</style>\n",
       "<table border=\"1\" class=\"dataframe\">\n",
       "  <thead>\n",
       "    <tr style=\"text-align: right;\">\n",
       "      <th></th>\n",
       "      <th>Símbolo</th>\n",
       "      <th>Preço</th>\n",
       "      <th>Volume de negociação</th>\n",
       "      <th>Capitalização de mercado</th>\n",
       "    </tr>\n",
       "  </thead>\n",
       "  <tbody>\n",
       "    <tr>\n",
       "      <th>0</th>\n",
       "      <td>AAPL</td>\n",
       "      <td>150.12</td>\n",
       "      <td>3000000</td>\n",
       "      <td>2000000000000</td>\n",
       "    </tr>\n",
       "    <tr>\n",
       "      <th>1</th>\n",
       "      <td>Google</td>\n",
       "      <td>2700.45</td>\n",
       "      <td>1000000</td>\n",
       "      <td>18000000000000</td>\n",
       "    </tr>\n",
       "    <tr>\n",
       "      <th>2</th>\n",
       "      <td>MSFT</td>\n",
       "      <td>300.89</td>\n",
       "      <td>2500000</td>\n",
       "      <td>22000000000000</td>\n",
       "    </tr>\n",
       "    <tr>\n",
       "      <th>3</th>\n",
       "      <td>AMZN</td>\n",
       "      <td>3200.10</td>\n",
       "      <td>1200000</td>\n",
       "      <td>1700000000000</td>\n",
       "    </tr>\n",
       "    <tr>\n",
       "      <th>4</th>\n",
       "      <td>TSLA</td>\n",
       "      <td>700.78</td>\n",
       "      <td>5000000</td>\n",
       "      <td>75000000000000</td>\n",
       "    </tr>\n",
       "  </tbody>\n",
       "</table>\n",
       "</div>"
      ],
      "text/plain": [
       "  Símbolo    Preço  Volume de negociação  Capitalização de mercado\n",
       "0    AAPL   150.12               3000000             2000000000000\n",
       "1  Google  2700.45               1000000            18000000000000\n",
       "2    MSFT   300.89               2500000            22000000000000\n",
       "3    AMZN  3200.10               1200000             1700000000000\n",
       "4    TSLA   700.78               5000000            75000000000000"
      ]
     },
     "execution_count": 9,
     "metadata": {},
     "output_type": "execute_result"
    }
   ],
   "source": [
    "dados.head()"
   ]
  },
  {
   "cell_type": "code",
   "execution_count": 14,
   "metadata": {},
   "outputs": [
    {
     "data": {
      "text/plain": [
       "Text(0.5, 1.0, 'Analisando dados de ações')"
      ]
     },
     "execution_count": 14,
     "metadata": {},
     "output_type": "execute_result"
    },
    {
     "data": {
      "image/png": "[encoded data removed]",
      "text/plain": [
       "<Figure size 640x480 with 1 Axes>"
      ]
     },
     "metadata": {},
     "output_type": "display_data"
    }
   ],
   "source": [
    "#Plotando o Boxplot\n",
    "sns.boxplot(x= dados['Simbolo'],y=dados['Preço'])\n",
    "plt.title('Analisando dados de ações')"
   ]
  },
  {
   "cell_type": "code",
   "execution_count": null,
   "metadata": {},
   "outputs": [],
   "source": []
  }
 ],
 "metadata": {
  "kernelspec": {
   "display_name": "Python 3",
   "language": "python",
   "name": "python3"
  },
  "language_info": {
   "codemirror_mode": {
    "name": "ipython",
    "version": 3
   },
   "file_extension": ".py",
   "mimetype": "text/x-python",
   "name": "python",
   "nbconvert_exporter": "python",
   "pygments_lexer": "ipython3",
   "version": "3.11.9"
  }
 },
 "nbformat": 4,
 "nbformat_minor": 2
}
