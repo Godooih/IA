{
 "cells": [
  {
   "cell_type": "code",
   "execution_count": 1,
   "metadata": {},
   "outputs": [],
   "source": [
    "import pandas as pd\n",
    "from sklearn.tree import DecisionTreeClassifier\n",
    "from sklearn import tree\n",
    "import matplotlib.pyplot as plt"
   ]
  },
  {
   "cell_type": "code",
   "execution_count": 2,
   "metadata": {},
   "outputs": [],
   "source": [
    "# Dados da tabela\n",
    "data = {\n",
    "    'Idade (anos)': [5, 10, 3, 8, 1, 15],\n",
    "    'Histórico de Manutenção': ['Bom', 'Ruim', 'Excelente', 'Regular', 'Excelente', 'Ruim'],\n",
    "    'Número de Falhas Anteriores': [0, 3, 0, 2, 0, 5],\n",
    "    'Nível de Automação': ['Alto', 'Baixo', 'Médio', 'Alto', 'Médio', 'Baixo'],\n",
    "    'Classificação': ['Segura', 'Não Segura', 'Segura', 'Não Segura', 'Segura', 'Não Segura']\n",
    "}"
   ]
  },
  {
   "cell_type": "code",
   "execution_count": 3,
   "metadata": {},
   "outputs": [],
   "source": [
    "# Convertemos para DataFrame\n",
    "df = pd.DataFrame(data)"
   ]
  },
  {
   "cell_type": "code",
   "execution_count": 4,
   "metadata": {},
   "outputs": [],
   "source": [
    "# Converter colunas categóricas para numéricas\n",
    "df['Histórico de Manutenção'] = df['Histórico de Manutenção'].map({'Ruim': 0, 'Regular': 1, 'Bom': 2, 'Excelente': 3})\n",
    "df['Nível de Automação'] = df['Nível de Automação'].map({'Baixo': 0, 'Médio': 1, 'Alto': 2})\n",
    "df['Classificação'] = df['Classificação'].map({'Segura': 0, 'Não Segura': 1})"
   ]
  },
  {
   "cell_type": "code",
   "execution_count": 5,
   "metadata": {},
   "outputs": [],
   "source": [
    "# Separando variáveis independentes (X) e variável dependente (y)\n",
    "X = df[['Idade (anos)', 'Histórico de Manutenção', 'Número de Falhas Anteriores', 'Nível de Automação']]\n",
    "y = df['Classificação']"
   ]
  },
  {
   "cell_type": "code",
   "execution_count": 7,
   "metadata": {},
   "outputs": [],
   "source": [
    "# Criar e treinar a árvore de decisão\n",
    "clf = DecisionTreeClassifier()\n",
    "clf = clf.fit(X, y)"
   ]
  },
  {
   "cell_type": "code",
   "execution_count": 8,
   "metadata": {},
   "outputs": [
    {
     "name": "stdout",
     "output_type": "stream",
     "text": [
      "Predição para os novos dados: Não Segura\n"
     ]
    },
    {
     "name": "stderr",
     "output_type": "stream",
     "text": [
      "C:\\Users\\thale\\AppData\\Local\\Packages\\PythonSoftwareFoundation.Python.3.11_qbz5n2kfra8p0\\LocalCache\\local-packages\\Python311\\site-packages\\sklearn\\base.py:493: UserWarning: X does not have valid feature names, but DecisionTreeClassifier was fitted with feature names\n",
      "  warnings.warn(\n"
     ]
    }
   ],
   "source": [
    "# Testar o modelo com novos dados\n",
    "novos_dados = [[7, 1, 1, 2]]  # Exemplo: Idade 7 anos, Manutenção Regular, 1 Falha, Automação Alta\n",
    "predicao = clf.predict(novos_dados)\n",
    "print(f\"Predição para os novos dados: {'Segura' if predicao[0] == 0 else 'Não Segura'}\")"
   ]
  },
  {
   "cell_type": "code",
   "execution_count": null,
   "metadata": {},
   "outputs": [],
   "source": []
  }
 ],
 "metadata": {
  "kernelspec": {
   "display_name": "Python 3",
   "language": "python",
   "name": "python3"
  },
  "language_info": {
   "codemirror_mode": {
    "name": "ipython",
    "version": 3
   },
   "file_extension": ".py",
   "mimetype": "text/x-python",
   "name": "python",
   "nbconvert_exporter": "python",
   "pygments_lexer": "ipython3",
   "version": "3.11.9"
  }
 },
 "nbformat": 4,
 "nbformat_minor": 2
}
